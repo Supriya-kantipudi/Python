{
 "cells": [
  {
   "cell_type": "markdown",
   "id": "a3f5b568",
   "metadata": {},
   "source": [
    "## PRINT STATEMENTS"
   ]
  },
  {
   "cell_type": "code",
   "execution_count": 2,
   "id": "33973217",
   "metadata": {},
   "outputs": [
    {
     "name": "stdout",
     "output_type": "stream",
     "text": [
      "My name is supriya\n",
      "My name is supriya---"
     ]
    }
   ],
   "source": [
    "# Normal print statements\n",
    "print(\"My name is supriya\")\n",
    "print(\"My name is supriya\",end = \"---\")\n"
   ]
  },
  {
   "cell_type": "code",
   "execution_count": 14,
   "id": "3ab4a50d",
   "metadata": {},
   "outputs": [
    {
     "name": "stdout",
     "output_type": "stream",
     "text": [
      "I was Studying  3 BTECH. And my Score is 90.33\n"
     ]
    }
   ],
   "source": [
    "## Formatting the input statements\n",
    "print(\"I was Studying %2d BTECH. And my Score is %5.2f\" % (3, 90.333))\n"
   ]
  },
  {
   "cell_type": "code",
   "execution_count": 16,
   "id": "2d8a2dc0",
   "metadata": {},
   "outputs": [
    {
     "name": "stdout",
     "output_type": "stream",
     "text": [
      "My name is Supriya my father name is Srinivas\n",
      "My name is Supriya my father name is Srinivas\n",
      "My name is Srinivas my father name is Supriya\n"
     ]
    }
   ],
   "source": [
    "# formatting output using format method\n",
    "print('My name is {} my father name is {}'.format('Supriya', 'Srinivas'))\n",
    "print('My name is {0} my father name is {1}'.format('Supriya', 'Srinivas'))\n",
    "print('My name is {1} my father name is {0}'.format('Supriya','Srinivas'))"
   ]
  },
  {
   "cell_type": "markdown",
   "id": "32b0e288",
   "metadata": {},
   "source": [
    "## DataTypes"
   ]
  },
  {
   "cell_type": "code",
   "execution_count": 19,
   "id": "30425a7d",
   "metadata": {},
   "outputs": [
    {
     "name": "stdout",
     "output_type": "stream",
     "text": [
      "<class 'int'>\n",
      "<class 'float'>\n",
      "<class 'str'>\n",
      "<class 'bool'>\n"
     ]
    }
   ],
   "source": [
    "# Integer \n",
    "a = 5\n",
    "print(type(a))\n",
    "\n",
    "# Float\n",
    "b = 5.6\n",
    "print(type(b))\n",
    "\n",
    "#String\n",
    "c = 'c'\n",
    "print(type(c))\n",
    "\n",
    "#boolean\n",
    "d = True\n",
    "print(type(d))"
   ]
  },
  {
   "cell_type": "markdown",
   "id": "e15d8314",
   "metadata": {},
   "source": [
    "## String Methods"
   ]
  },
  {
   "cell_type": "code",
   "execution_count": 36,
   "id": "7d8d0e1b",
   "metadata": {},
   "outputs": [
    {
     "name": "stdout",
     "output_type": "stream",
     "text": [
      "Supriya\n",
      "supriya\n",
      "1\n",
      "True\n",
      "6\n",
      "True\n",
      "True\n",
      "False\n",
      "False\n",
      "supriya\n",
      "SUPRIYA\n",
      "sUPRIYA\n"
     ]
    }
   ],
   "source": [
    "A = \"Supriya\"\n",
    "\n",
    "#Capitalize -->Converts the first character to upper case\n",
    "print(A.capitalize())\n",
    "\n",
    "# casefold -->Converts string into lower case\n",
    "print(A.casefold())\n",
    "\n",
    "#count -->Returns the number of times a specified value occurs in a string\n",
    "print(A.count('u'))\n",
    "\n",
    "#endsWith -->Returns true if the string ends with the specified value\n",
    "print(A.endswith('a'))\n",
    "\n",
    "#find-->Searches the string for a specified value and returns the position of where it was found\n",
    "print(A.find('a'))\n",
    "\n",
    "#isalnum -->Returns True if all characters in the string are alphanumeric\n",
    "print(A.isalnum())\n",
    "\n",
    "#isalpha -->Returns True if all characters in the string are in the alphabet\n",
    "print(A.isalpha())\n",
    "\n",
    "#isdecimal-->Returns True if all characters in the string are decimals\n",
    "print(A.isdecimal())\n",
    "\n",
    "#isdigit -->Returns True if all characters in the string are digits\n",
    "print(A.isdigit())\n",
    "\n",
    "#lower -->Converts a string into lower case\n",
    "print(A.lower())\n",
    "\n",
    "#upper -->Converts a string into upper case\n",
    "print(A.upper())\n",
    "\n",
    "#swapcase -->Swaps cases, lower case becomes upper case and vice versa\n",
    "print(A.swapcase())\n"
   ]
  },
  {
   "cell_type": "markdown",
   "id": "6fbddaa1",
   "metadata": {},
   "source": [
    "## Lists and Methods"
   ]
  },
  {
   "cell_type": "code",
   "execution_count": 2,
   "id": "68a34a09",
   "metadata": {},
   "outputs": [],
   "source": [
    "my_list = [1, 2, 3,4,5,6]\n",
    "\n",
    "# empty list\n",
    "list1 = []\n",
    "\n",
    "# list with mixed data types\n",
    "list3 = [1, \"Hello\", 3.4]\n",
    "\n",
    "# list with mixed data types\n",
    "list4 = [1, \"Hello\", 3.4]"
   ]
  },
  {
   "cell_type": "code",
   "execution_count": 3,
   "id": "d59e0775",
   "metadata": {},
   "outputs": [
    {
     "name": "stdout",
     "output_type": "stream",
     "text": [
      "3\n",
      "6\n"
     ]
    }
   ],
   "source": [
    "#Access List Elements\n",
    "print(my_list[2]) \n",
    "\n",
    "#Negative indexing\n",
    "print(my_list[-1])\n",
    "\n"
   ]
  },
  {
   "cell_type": "code",
   "execution_count": 12,
   "id": "d157d501",
   "metadata": {},
   "outputs": [
    {
     "name": "stdout",
     "output_type": "stream",
     "text": [
      "['o', 'g', 'r']\n",
      "None\n",
      "None\n",
      "9\n",
      "1\n",
      "[1, 2, 3, 4, 5, 6]\n",
      "['p', 's', 'r', 'o', 'g', 'r', 'a', 'm', 'i', 'z', 5, 9, 11, 13]\n",
      "['p', 's', 'r', 'o', 'g', 'r', 'a', 'm', 'i', 'z', 5, 11, 13]\n",
      "[13, 11, 5, 'z', 'i', 'm', 'a', 'r', 'g', 'o', 'r', 's', 'p']\n",
      "[]\n"
     ]
    }
   ],
   "source": [
    "#List Slicing in Python\n",
    "list5 = ['p','r','o','g','r','a','m','i','z']\n",
    "print(list5[2:5])\n",
    "\n",
    "\n",
    "#append-->adds an element to the end of the list\n",
    "print(list5.append(5))\n",
    "\n",
    "#extend-->adds all elements of a list to another list\n",
    "print(list5.extend([9, 11, 13]))\n",
    "\n",
    "#index-->returns the index of the first matched item\n",
    "print(list5.index(5))\n",
    "\n",
    "#count-->returns the count of the number of items passed as an argument\n",
    "print(list5.count(9))\n",
    "\n",
    "#sort-->sort items in a list in ascending order\n",
    "my_list.sort()\n",
    "print(my_list)\n",
    "\n",
    "#insert-->inserts an item at the defined index\n",
    "list5.insert(1,'s')\n",
    "print(list5)\n",
    "\n",
    "#remove-->removes an item from the list\n",
    "list5.remove(9)\n",
    "print(list5)\n",
    "\n",
    "#reverse()-->reverse the order of items in the list\n",
    "list5.reverse()\n",
    "print(list5)\n",
    "\n",
    "#clear()-->removes all items from the list\n",
    "list5.clear()\n",
    "print(list5)"
   ]
  },
  {
   "cell_type": "markdown",
   "id": "10868298",
   "metadata": {},
   "source": [
    "## Sets"
   ]
  },
  {
   "cell_type": "code",
   "execution_count": 15,
   "id": "a8a96689",
   "metadata": {},
   "outputs": [
    {
     "name": "stdout",
     "output_type": "stream",
     "text": [
      "{'p', 'S', 'u', 'a', 'f', 'r', 'i', 'y'}\n",
      "{'p', 'S', 'u', 'a', 'f', 'r', 'i', 'y'}\n",
      "{'p', 'S', 'u', 'f', 'r', 'i', 'y'}\n",
      "p\n",
      "Set after updating: {'S', 'u', 'f', 'r', 'i', 'y'}\n",
      "set()\n"
     ]
    }
   ],
   "source": [
    "# set of letters\n",
    "s = {'S', 'u', 'p', 'r','i','y','a'}\n",
    "\n",
    "# adding 's'\n",
    "s.add('f')\n",
    "print(s)\n",
    "\n",
    "# Discarding element from the set\n",
    "s.discard('g')\n",
    "print(s)\n",
    "\n",
    "# Removing element from the set\n",
    "s.remove('a')\n",
    "print(s)\n",
    "\n",
    "# Popping elements from the set\n",
    "print(s.pop())\n",
    "print('Set after updating:', s)\n",
    "\n",
    "s.clear()\n",
    "print(s)\n"
   ]
  },
  {
   "cell_type": "markdown",
   "id": "504283f7",
   "metadata": {},
   "source": [
    "## Dictionary"
   ]
  },
  {
   "cell_type": "code",
   "execution_count": 19,
   "id": "376293f0",
   "metadata": {},
   "outputs": [
    {
     "name": "stdout",
     "output_type": "stream",
     "text": [
      "{1: 'Supriya', 2: 'Mani', 3: 'Srinu'}\n",
      "{}\n",
      "{0: 'Supriya', 2: 'Kantipudi', 3: 'BTECH'}\n",
      "{1: 'Python', 2: 'Java', 3: 'Ruby', 4: 'Scala'}\n",
      "{}\n",
      "Python\n",
      "dict_items([(1, 'Python'), (2, 'Java'), (3, 'Ruby'), (4, 'Scala')])\n",
      "dict_keys([1, 2, 3, 4])\n",
      "{1: 'Python', 2: 'Java', 3: 'Ruby'}\n",
      "{1: 'Python', 2: 'Java'}\n",
      "{1: 'Python', 2: 'Java', 3: 'Scala'}\n",
      "dict_values(['Python', 'Java', 'Scala'])\n"
     ]
    }
   ],
   "source": [
    "D = {1: 'Supriya', 2: 'Mani', 3: 'Srinu'}\n",
    "print(D)\n",
    "\n",
    "D1 = {}\n",
    "print(D1)\n",
    "  \n",
    "# Adding elements one at a time\n",
    "D1[0] = 'Supriya'\n",
    "D1[2] = 'Kantipudi'\n",
    "D1[3] = 'BTECH'\n",
    "print(D1)\n",
    "\n",
    "#Dictionary Methods\n",
    "# demo for all dictionary methods\n",
    "dict1 = {1: \"Python\", 2: \"Java\", 3: \"Ruby\", 4: \"Scala\"}\n",
    "\n",
    "# copy() method\n",
    "dict2 = dict1.copy()\n",
    "print(dict2)\n",
    "\n",
    "# clear() method\n",
    "dict1.clear()\n",
    "print(dict1)\n",
    "\n",
    "# get() method\n",
    "print(dict2.get(1))\n",
    "\n",
    "# items() method\n",
    "print(dict2.items())\n",
    "\n",
    "# keys() method\n",
    "print(dict2.keys())\n",
    "\n",
    "# pop() method\n",
    "dict2.pop(4)\n",
    "print(dict2)\n",
    "\n",
    "# popitem() method\n",
    "dict2.popitem()\n",
    "print(dict2)\n",
    "\n",
    "# update() method\n",
    "dict2.update({3: \"Scala\"})\n",
    "print(dict2)\n",
    "\n",
    "# values() method\n",
    "print(dict2.values())\n"
   ]
  },
  {
   "cell_type": "markdown",
   "id": "31b72b75",
   "metadata": {},
   "source": [
    "## Ordered dictionary"
   ]
  },
  {
   "cell_type": "code",
   "execution_count": 21,
   "id": "67fe6d1c",
   "metadata": {},
   "outputs": [
    {
     "name": "stdout",
     "output_type": "stream",
     "text": [
      "Before deleting:\n",
      "\n",
      "a 1\n",
      "b 2\n",
      "c 3\n",
      "d 4\n",
      "\n",
      "After deleting:\n",
      "\n",
      "a 1\n",
      "b 2\n",
      "d 4\n",
      "\n",
      "After re-inserting:\n",
      "\n",
      "a 1\n",
      "b 2\n",
      "d 4\n",
      "c 3\n"
     ]
    }
   ],
   "source": [
    "\n",
    "from collections import OrderedDict\n",
    "\n",
    "print(\"Before deleting:\\n\")\n",
    "od = OrderedDict()\n",
    "od['a'] = 1\n",
    "od['b'] = 2\n",
    "od['c'] = 3\n",
    "od['d'] = 4\n",
    "\n",
    "for key, value in od.items():\n",
    "\tprint(key, value)\n",
    "\n",
    "print(\"\\nAfter deleting:\\n\")\n",
    "od.pop('c')\n",
    "for key, value in od.items():\n",
    "\tprint(key, value)\n",
    "\n",
    "print(\"\\nAfter re-inserting:\\n\")\n",
    "od['c'] = 3\n",
    "for key, value in od.items():\n",
    "\tprint(key, value)\n"
   ]
  },
  {
   "cell_type": "code",
   "execution_count": 22,
   "id": "44ee2af1",
   "metadata": {},
   "outputs": [
    {
     "ename": "SyntaxError",
     "evalue": "invalid syntax (<ipython-input-22-f188d5ac1197>, line 1)",
     "output_type": "error",
     "traceback": [
      "\u001b[1;36m  File \u001b[1;32m\"<ipython-input-22-f188d5ac1197>\"\u001b[1;36m, line \u001b[1;32m1\u001b[0m\n\u001b[1;33m    git init\u001b[0m\n\u001b[1;37m        ^\u001b[0m\n\u001b[1;31mSyntaxError\u001b[0m\u001b[1;31m:\u001b[0m invalid syntax\n"
     ]
    }
   ],
   "source": []
  },
  {
   "cell_type": "code",
   "execution_count": null,
   "id": "844409a8",
   "metadata": {},
   "outputs": [],
   "source": []
  }
 ],
 "metadata": {
  "kernelspec": {
   "display_name": "Python 3",
   "language": "python",
   "name": "python3"
  },
  "language_info": {
   "codemirror_mode": {
    "name": "ipython",
    "version": 3
   },
   "file_extension": ".py",
   "mimetype": "text/x-python",
   "name": "python",
   "nbconvert_exporter": "python",
   "pygments_lexer": "ipython3",
   "version": "3.8.8"
  }
 },
 "nbformat": 4,
 "nbformat_minor": 5
}
